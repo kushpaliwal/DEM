{
 "cells": [
  {
   "cell_type": "code",
   "execution_count": null,
   "metadata": {},
   "outputs": [],
   "source": [
    "# INITIALIZE PYQGIS (run once per session)\n",
    "import sys, os\n",
    "os.environ['QT_QPA_PLATFORM']='offscreen'\n",
    "sys.path.append('/apps/share64/debian7/anaconda/anaconda3-5.1/envs/qgis/')\n",
    "from qgis.core import *\n",
    "from qgis.analysis import QgsNativeAlgorithms\n",
    "#from qgis.utils import *\n",
    "import processing\n",
    "from processing.core.Processing import Processing \n",
    "\n",
    "qgs = QgsApplication([], False)\n",
    "qgs.initQgis()\n",
    "Processing.initialize()\n",
    "QgsApplication.processingRegistry().addProvider(QgsNativeAlgorithms()) "
   ]
  },
  {
   "cell_type": "code",
   "execution_count": null,
   "metadata": {},
   "outputs": [],
   "source": [
    "# IMPORT LIBRARIES\n",
    "import urllib, math, zipfile, shutil"
   ]
  },
  {
   "cell_type": "code",
   "execution_count": null,
   "metadata": {},
   "outputs": [],
   "source": [
    "# USER INPUTS\n",
    "input_folder_name = \"/home/mygeohub/kpaliwal/CWH/Input\"\n",
    "output_folder_name = \"/home/mygeohub/kpaliwal/CWH/Output\" \n",
    "boundary_file =  \"Boundary.shp\""
   ]
  },
  {
   "cell_type": "code",
   "execution_count": null,
   "metadata": {},
   "outputs": [],
   "source": [
    "# USER DEFINED FUNCTIONS\n",
    "\n",
    "def GetNED(NL, WL):\n",
    "    name1 = \"n\"+NL+\"w\"+WL\n",
    "    address = \"ftp://rockyftp.cr.usgs.gov/vdelivery/Datasets/Staged/Elevation/1/ArcGrid/USGS_NED_1_\"\n",
    "    url_final = address + name1 + \"_ArcGrid.zip\"\n",
    "    print(url_final)\n",
    "    try:\n",
    "        urllib.request.urlretrieve(url_final, work_folder_name + \"/\" + name1+\".zip\")\n",
    "        print(work_folder_name + \"/\" + name1 + \".zip\")\n",
    "        print(\"NED download successful: \" + name1)\n",
    "        #unzip the folder\n",
    "        zfile1 = zipfile.ZipFile(work_folder_name + \"/\" + name1 +\".zip\", 'r')\n",
    "        zfile1.extractall(work_folder_name)\n",
    "        zfile1.close()\n",
    "        print(\"NED extraction successful: \" + name1)\n",
    "        \n",
    "    except:\n",
    "        print(\"Error in NED download or extraction: \" + name1)\n",
    "\n",
    "    #return the name of downloaded file\n",
    "    return(\"grd\" + name1 + \"_1\")"
   ]
  },
  {
   "cell_type": "code",
   "execution_count": null,
   "metadata": {},
   "outputs": [],
   "source": [
    "# MAIN CODE STARTS\n",
    "\n",
    "work_folder_name = os.path.join(input_folder_name, \"Work Folder\")\n",
    "if os.path.exists(work_folder_name) == False:\n",
    "    os.mkdir(work_folder_name)\n",
    "boundary_path = os.path.join(input_folder_name, boundary_file)\n",
    "input_crs = QgsVectorLayer(boundary_path, '', 'ogr' ).crs().authid()\n",
    "#processing.run('qgis:reprojectlayer',{'INPUT': full_input_path, 'TARGET_CRS':'EPSG:102673','OUTPUT': folder_name + \"boundary_proj.shp\"})\n",
    "processing.run('native:reprojectlayer',{'INPUT': boundary_path, 'TARGET_CRS':'EPSG:4326','OUTPUT': work_folder_name + \"/boundary_proj.shp\"})\n",
    "ext = QgsVectorLayer(work_folder_name + \"/boundary_proj.shp\", '', 'ogr' ).extent()\n",
    "print(\"Bounds of the input file:\")\n",
    "print(ext.yMinimum())\n",
    "print(ext.yMaximum())\n",
    "print(ext.xMinimum())\n",
    "print(ext.xMaximum())\n",
    "#print(work_folder_name + \"/boundary_proj.shp\")\n",
    "listNL=list(range(int(math.ceil(ext.yMinimum())), int(math.ceil(ext.yMaximum()))+1))\n",
    "listWL=list(range(int(abs(math.floor(ext.xMaximum()))), int(abs(math.floor(ext.xMinimum())))+1))\n",
    "raster_names = []"
   ]
  },
  {
   "cell_type": "code",
   "execution_count": null,
   "metadata": {},
   "outputs": [],
   "source": [
    "# Looping through tiles to download\n",
    "\n",
    "for i in listNL:\n",
    "    for j in listWL:\n",
    "        NL = str(i)\n",
    "        WL = \"0\"+str(j)\n",
    "        print(\"Processing: \" + NL + \" \" + WL)\n",
    "        raster_names.append(GetNED(NL,WL))"
   ]
  },
  {
   "cell_type": "code",
   "execution_count": null,
   "metadata": {},
   "outputs": [],
   "source": [
    "# GIS operations to get the final DEM\n",
    "\n",
    "input_list = [os.path.join(work_folder_name, cur_raster) for cur_raster in raster_names]\n",
    "print(\"Merging Raster...\")\n",
    "processing.run(\"gdal:merge\", {'INPUT':input_list, 'OUTPUT':work_folder_name + \"/merged_rast.tif\"})\n",
    "print(\"Projecting Raster...\")\n",
    "processing.run('gdal:warpreproject', {'INPUT': work_folder_name + \"/merged_rast.tif\", 'TARGET_CRS': input_crs, 'OUTPUT': work_folder_name + \"/proj_rast.tif\"})\n",
    "print(\"Clipping Raster...\")\n",
    "processing.run('gdal:cliprasterbymasklayer',{'INPUT': work_folder_name + \"/proj_rast.tif\", 'MASK': boundary_path, 'OUTPUT': output_folder_name + \"/\" + boundary_file[:-4] + \".tif\"})\n",
    "print(\"DEM prepared successfully!!!\")"
   ]
  },
  {
   "cell_type": "code",
   "execution_count": null,
   "metadata": {},
   "outputs": [],
   "source": [
    "#Clean Up\n",
    "\n",
    "shutil.rmtree(work_folder_name)\n",
    "qgs.exitQgis()"
   ]
  }
 ],
 "metadata": {
  "kernelspec": {
   "display_name": "Python [conda env:qgis]",
   "language": "python",
   "name": "conda-env-qgis-py"
  },
  "language_info": {
   "codemirror_mode": {
    "name": "ipython",
    "version": 3
   },
   "file_extension": ".py",
   "mimetype": "text/x-python",
   "name": "python",
   "nbconvert_exporter": "python",
   "pygments_lexer": "ipython3",
   "version": "3.7.3"
  }
 },
 "nbformat": 4,
 "nbformat_minor": 2
}
