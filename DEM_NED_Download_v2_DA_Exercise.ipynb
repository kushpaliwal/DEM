{
 "cells": [
  {
   "cell_type": "code",
   "execution_count": null,
   "metadata": {},
   "outputs": [],
   "source": [
    "# INITIALIZE PYQGIS (run once per session)\n",
    "import sys, os\n",
    "os.environ['QT_QPA_PLATFORM']='offscreen'\n",
    "sys.path.append('/apps/share64/debian7/anaconda/anaconda3-5.1/envs/qgis/')\n",
    "from qgis.core import *\n",
    "from qgis.analysis import QgsNativeAlgorithms\n",
    "#from qgis.utils import *\n",
    "import processing\n",
    "from processing.core.Processing import Processing \n",
    "\n",
    "qgs = QgsApplication([], False)\n",
    "qgs.initQgis()\n",
    "Processing.initialize()\n",
    "QgsApplication.processingRegistry().addProvider(QgsNativeAlgorithms()) "
   ]
  },
  {
   "cell_type": "code",
   "execution_count": null,
   "metadata": {},
   "outputs": [],
   "source": [
    "# IMPORT LIBRARIES\n",
    "import ftplib, math, zipfile, shutil"
   ]
  },
  {
   "cell_type": "code",
   "execution_count": null,
   "metadata": {},
   "outputs": [],
   "source": [
    "# USER INPUTS\n",
    "input_folder_name = \"/home/mygeohub/dey6/QGIS_Modules/DEM_Download/Class59100_B6/Input\"\n",
    "output_folder_name = \"/home/mygeohub/dey6/QGIS_Modules/DEM_Download/Class59100_B6/Output\" \n",
    "boundary_file =  \"B6_simplify.shp\""
   ]
  },
  {
   "cell_type": "code",
   "execution_count": null,
   "metadata": {},
   "outputs": [],
   "source": [
    "# USER DEFINED FUNCTION FOR DOWNLOADING TILES\n",
    "def DownloadNED(lat,lon):\n",
    "    name = \"n\"+lat+\"w\"+lon\n",
    "    with ftplib.FTP('rockyftp.cr.usgs.gov') as ftp:\n",
    "        try:\n",
    "            ftp.login()\n",
    "            ftp.cwd('vdelivery/Datasets/Staged/Elevation/1/ArcGrid/')\n",
    "            contents = ftp.nlst()\n",
    "            filtered_contents = [f for f in contents if ((name in f) & (\".zip\" in f))]\n",
    "            if len(filtered_contents) == 0:\n",
    "                print(\"No file found for: \" + name)        \n",
    "            elif len(filtered_contents) == 1:\n",
    "                final_file = filtered_contents[0]\n",
    "                print(\"1 file found for current tile\")\n",
    "                print(\"Downloading \" + final_file)\n",
    "                fo = open(os.path.join(work_folder_name, final_file), 'wb')\n",
    "                ftp.retrbinary(\"RETR \" + final_file , fo.write)\n",
    "                fo.close() \n",
    "                print(\"Download successful\")\n",
    "                return(final_file)                \n",
    "            elif len(filtered_contents) > 1:\n",
    "                print(\"More than 1 file found: Dowloading largest zip file\")\n",
    "                file_list = []\n",
    "                ftp.sendcmd(\"TYPE i\")\n",
    "                for f in filtered_contents:\n",
    "                    file_list.append((f,ftp.size(f)))\n",
    "                file_list.sort(key=lambda s: s[1])\n",
    "                final_file = file_list[-1] #return the largest file\n",
    "                print(\"Downloading...\" + final_file)\n",
    "                fo = open(os.path.join(work_folder_name, final_file), 'wb')\n",
    "                ftp.retrbinary(\"RETR \" + final_file , fo.write)\n",
    "                fo.close()\n",
    "                print(\"Download successful\")\n",
    "                return(final_file)\n",
    "            else:\n",
    "                print(\"Unknown error with file download for:\" + name)           \n",
    "            \n",
    "        except ftplib.all_errors as e:\n",
    "            print('FTP error:', e)\n",
    "    "
   ]
  },
  {
   "cell_type": "code",
   "execution_count": null,
   "metadata": {},
   "outputs": [],
   "source": [
    "# USER DEFINED FUNCTION FOR UNZIPPING DOWNLOADED TILES\n",
    "def UnzipNED(f):\n",
    "    try:\n",
    "        zfile1 = zipfile.ZipFile(work_folder_name + \"/\" + f, 'r')\n",
    "        zfile1.extractall(work_folder_name)\n",
    "        zfile1.close()\n",
    "        print(\"NED unzipped successfully: \" + f)\n",
    "    except:\n",
    "        print(\"Error in unzipping: \" + f)\n",
    "    \n",
    "    "
   ]
  },
  {
   "cell_type": "code",
   "execution_count": null,
   "metadata": {},
   "outputs": [],
   "source": [
    "# MAIN CODE STARTS\n",
    "work_folder_name = os.path.join(input_folder_name, \"WorkFolder\")\n",
    "if os.path.exists(work_folder_name) == False:\n",
    "    os.mkdir(work_folder_name)\n",
    "boundary_path = os.path.join(input_folder_name, boundary_file)\n",
    "input_crs = QgsVectorLayer(boundary_path, '', 'ogr' ).crs().authid()\n",
    "#processing.run('qgis:reprojectlayer',{'INPUT': full_input_path, 'TARGET_CRS':'EPSG:102673','OUTPUT': folder_name + \"boundary_proj.shp\"})\n",
    "processing.run('native:reprojectlayer',{'INPUT': boundary_path, 'TARGET_CRS':'EPSG:4326','OUTPUT': work_folder_name + \"/boundary_proj.shp\"})\n",
    "\n",
    "ext = QgsVectorLayer(work_folder_name + \"/boundary_proj.shp\", '', 'ogr' ).extent()\n",
    "# print the extents here (Exercise 1)\n",
    "\n",
    "# generate list of intermediate latitudes and longitudes (Exercise 1)\n",
    "listNL= [] # list of intermediate latitudes\n",
    "listWL= [] # list of intermediate longtiudes\n"
   ]
  },
  {
   "cell_type": "code",
   "execution_count": null,
   "metadata": {
    "scrolled": true
   },
   "outputs": [],
   "source": [
    "# Looping through tiles to download\n",
    "raster_names = [] # this is used to store the name of the rasters downloaded\n",
    "for i in listNL:\n",
    "    for j in listWL:\n",
    "        # create name string for current pair of lat-long\n",
    "        # call DownloadNED\n",
    "        # call UnzipNED\n",
    "        raster_names.append(\"grdn\"+lat+\"w\"+lon + \"_1\") # storing names of downloaded rasters\n",
    "print(\"Tile processing complete...\")"
   ]
  },
  {
   "cell_type": "code",
   "execution_count": null,
   "metadata": {},
   "outputs": [],
   "source": [
    "#Clean Up (run if you want to shut down qgis)\n",
    "qgs.exitQgis()"
   ]
  },
  {
   "cell_type": "code",
   "execution_count": null,
   "metadata": {},
   "outputs": [],
   "source": []
  }
 ],
 "metadata": {
  "kernelspec": {
   "display_name": "Python [conda env:qgis]",
   "language": "python",
   "name": "conda-env-qgis-py"
  },
  "language_info": {
   "codemirror_mode": {
    "name": "ipython",
    "version": 3
   },
   "file_extension": ".py",
   "mimetype": "text/x-python",
   "name": "python",
   "nbconvert_exporter": "python",
   "pygments_lexer": "ipython3",
   "version": "3.7.3"
  }
 },
 "nbformat": 4,
 "nbformat_minor": 2
}
